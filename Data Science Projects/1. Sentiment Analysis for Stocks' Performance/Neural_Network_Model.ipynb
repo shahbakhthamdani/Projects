{
 "cells": [
  {
   "cell_type": "code",
   "execution_count": 1,
   "metadata": {},
   "outputs": [
    {
     "name": "stderr",
     "output_type": "stream",
     "text": [
      "/home/luisarmandovillarreal/anaconda3/lib/python3.6/site-packages/h5py/__init__.py:36: FutureWarning: Conversion of the second argument of issubdtype from `float` to `np.floating` is deprecated. In future, it will be treated as `np.float64 == np.dtype(float).type`.\n",
      "  from ._conv import register_converters as _register_converters\n"
     ]
    },
    {
     "name": "stdout",
     "output_type": "stream",
     "text": [
      "1.10.1\n"
     ]
    }
   ],
   "source": [
    "from __future__ import absolute_import, division, print_function\n",
    "\n",
    "import pathlib\n",
    "\n",
    "import matplotlib.pyplot as plt\n",
    "import pandas as pd\n",
    "import numpy as np\n",
    "from datetime import datetime\n",
    "import seaborn as sns\n",
    "\n",
    "import tensorflow as tf\n",
    "from tensorflow import keras\n",
    "from tensorflow.keras import layers\n",
    "\n",
    "import pandas_datareader\n",
    "\n",
    "print(tf.__version__)\n"
   ]
  },
  {
   "cell_type": "code",
   "execution_count": 2,
   "metadata": {},
   "outputs": [
    {
     "data": {
      "text/html": [
       "<div>\n",
       "<style scoped>\n",
       "    .dataframe tbody tr th:only-of-type {\n",
       "        vertical-align: middle;\n",
       "    }\n",
       "\n",
       "    .dataframe tbody tr th {\n",
       "        vertical-align: top;\n",
       "    }\n",
       "\n",
       "    .dataframe thead th {\n",
       "        text-align: right;\n",
       "    }\n",
       "</style>\n",
       "<table border=\"1\" class=\"dataframe\">\n",
       "  <thead>\n",
       "    <tr style=\"text-align: right;\">\n",
       "      <th></th>\n",
       "      <th>ticker</th>\n",
       "      <th>date</th>\n",
       "      <th>compound</th>\n",
       "    </tr>\n",
       "  </thead>\n",
       "  <tbody>\n",
       "    <tr>\n",
       "      <th>0</th>\n",
       "      <td>AAPL</td>\n",
       "      <td>2019-03-04</td>\n",
       "      <td>0.110123</td>\n",
       "    </tr>\n",
       "    <tr>\n",
       "      <th>1</th>\n",
       "      <td>AAPL</td>\n",
       "      <td>2019-03-05</td>\n",
       "      <td>0.091783</td>\n",
       "    </tr>\n",
       "    <tr>\n",
       "      <th>2</th>\n",
       "      <td>AAPL</td>\n",
       "      <td>2019-03-06</td>\n",
       "      <td>0.060471</td>\n",
       "    </tr>\n",
       "    <tr>\n",
       "      <th>3</th>\n",
       "      <td>AAPL</td>\n",
       "      <td>2019-03-07</td>\n",
       "      <td>0.073557</td>\n",
       "    </tr>\n",
       "    <tr>\n",
       "      <th>4</th>\n",
       "      <td>AAPL</td>\n",
       "      <td>2019-03-08</td>\n",
       "      <td>0.114928</td>\n",
       "    </tr>\n",
       "  </tbody>\n",
       "</table>\n",
       "</div>"
      ],
      "text/plain": [
       "  ticker        date  compound\n",
       "0   AAPL  2019-03-04  0.110123\n",
       "1   AAPL  2019-03-05  0.091783\n",
       "2   AAPL  2019-03-06  0.060471\n",
       "3   AAPL  2019-03-07  0.073557\n",
       "4   AAPL  2019-03-08  0.114928"
      ]
     },
     "execution_count": 2,
     "metadata": {},
     "output_type": "execute_result"
    }
   ],
   "source": [
    "df = pd.read_csv('data_daily.csv')\n",
    "df.head()"
   ]
  },
  {
   "cell_type": "code",
   "execution_count": 3,
   "metadata": {},
   "outputs": [
    {
     "data": {
      "text/plain": [
       "array(['AAPL', 'ABBV', 'ABT', 'ADBE', 'AMGN', 'AMZN', 'AVGO', 'BA', 'BAC',\n",
       "       'BRK-B', 'C', 'CMCSA', 'CRM', 'CSCO', 'CVX', 'DIS', 'DWDP', 'FB',\n",
       "       'GOOG', 'HD', 'HON', 'IBM', 'INTC', 'JNJ', 'JPM', 'KO', 'LLY',\n",
       "       'MA', 'MCD', 'MDT', 'MMM', 'MRK', 'MSFT', 'NFLX', 'NKE', 'ORCL',\n",
       "       'PEP', 'PFE', 'PG', 'PM', 'PYPL', 'T', 'UNH', 'UNP', 'V', 'VZ',\n",
       "       'WFC', 'WMT', 'XOM'], dtype=object)"
      ]
     },
     "execution_count": 3,
     "metadata": {},
     "output_type": "execute_result"
    }
   ],
   "source": [
    "df.at[df[df.ticker=='BRK'].index,'ticker'] = 'BRK-B'\n",
    "df['ticker'].unique()"
   ]
  },
  {
   "cell_type": "code",
   "execution_count": 4,
   "metadata": {},
   "outputs": [],
   "source": [
    "tickers = df['ticker'].unique()"
   ]
  },
  {
   "cell_type": "code",
   "execution_count": 5,
   "metadata": {},
   "outputs": [],
   "source": [
    "start_date = '2019-03-01'\n",
    "end_date = '2019-03-29'\n",
    "\n",
    "df_daily_prices = pandas_datareader.get_data_yahoo(tickers, start_date, end_date)['Adj Close']"
   ]
  },
  {
   "cell_type": "code",
   "execution_count": 6,
   "metadata": {},
   "outputs": [
    {
     "data": {
      "text/html": [
       "<div>\n",
       "<style scoped>\n",
       "    .dataframe tbody tr th:only-of-type {\n",
       "        vertical-align: middle;\n",
       "    }\n",
       "\n",
       "    .dataframe tbody tr th {\n",
       "        vertical-align: top;\n",
       "    }\n",
       "\n",
       "    .dataframe thead th {\n",
       "        text-align: right;\n",
       "    }\n",
       "</style>\n",
       "<table border=\"1\" class=\"dataframe\">\n",
       "  <thead>\n",
       "    <tr style=\"text-align: right;\">\n",
       "      <th></th>\n",
       "      <th>ticker</th>\n",
       "      <th>date</th>\n",
       "      <th>change</th>\n",
       "    </tr>\n",
       "  </thead>\n",
       "  <tbody>\n",
       "    <tr>\n",
       "      <th>0</th>\n",
       "      <td>AAPL</td>\n",
       "      <td>2019-03-04</td>\n",
       "      <td>0.005017</td>\n",
       "    </tr>\n",
       "    <tr>\n",
       "      <th>1</th>\n",
       "      <td>AAPL</td>\n",
       "      <td>2019-03-05</td>\n",
       "      <td>-0.001821</td>\n",
       "    </tr>\n",
       "    <tr>\n",
       "      <th>2</th>\n",
       "      <td>AAPL</td>\n",
       "      <td>2019-03-06</td>\n",
       "      <td>-0.005771</td>\n",
       "    </tr>\n",
       "    <tr>\n",
       "      <th>3</th>\n",
       "      <td>AAPL</td>\n",
       "      <td>2019-03-07</td>\n",
       "      <td>-0.011642</td>\n",
       "    </tr>\n",
       "    <tr>\n",
       "      <th>4</th>\n",
       "      <td>AAPL</td>\n",
       "      <td>2019-03-08</td>\n",
       "      <td>0.002374</td>\n",
       "    </tr>\n",
       "  </tbody>\n",
       "</table>\n",
       "</div>"
      ],
      "text/plain": [
       "  ticker        date    change\n",
       "0   AAPL  2019-03-04  0.005017\n",
       "1   AAPL  2019-03-05 -0.001821\n",
       "2   AAPL  2019-03-06 -0.005771\n",
       "3   AAPL  2019-03-07 -0.011642\n",
       "4   AAPL  2019-03-08  0.002374"
      ]
     },
     "execution_count": 6,
     "metadata": {},
     "output_type": "execute_result"
    }
   ],
   "source": [
    "data = []\n",
    "for stock in df_daily_prices.columns:\n",
    "    \n",
    "    for i in range(len(df_daily_prices[stock])-1):\n",
    "        \n",
    "        data.append([stock,\n",
    "                     df_daily_prices[stock].index[i+1].to_pydatetime().strftime('%Y-%m-%d'),\n",
    "                     np.log(df_daily_prices[stock][i+1]/df_daily_prices[stock][i])])\n",
    "\n",
    "df_stock_daily_changes = pd.DataFrame(data,columns=['ticker','date', 'change'])\n",
    "df_stock_daily_changes.head()"
   ]
  },
  {
   "cell_type": "code",
   "execution_count": 7,
   "metadata": {},
   "outputs": [],
   "source": [
    "df = df.merge(df_stock_daily_changes, how='right', left_on=['ticker', 'date'], right_on=['ticker', 'date'])\n"
   ]
  },
  {
   "cell_type": "code",
   "execution_count": 8,
   "metadata": {},
   "outputs": [
    {
     "data": {
      "text/html": [
       "<div>\n",
       "<style scoped>\n",
       "    .dataframe tbody tr th:only-of-type {\n",
       "        vertical-align: middle;\n",
       "    }\n",
       "\n",
       "    .dataframe tbody tr th {\n",
       "        vertical-align: top;\n",
       "    }\n",
       "\n",
       "    .dataframe thead th {\n",
       "        text-align: right;\n",
       "    }\n",
       "</style>\n",
       "<table border=\"1\" class=\"dataframe\">\n",
       "  <thead>\n",
       "    <tr style=\"text-align: right;\">\n",
       "      <th></th>\n",
       "      <th>ticker</th>\n",
       "      <th>date</th>\n",
       "      <th>compound</th>\n",
       "      <th>change</th>\n",
       "    </tr>\n",
       "  </thead>\n",
       "  <tbody>\n",
       "    <tr>\n",
       "      <th>0</th>\n",
       "      <td>AAPL</td>\n",
       "      <td>2019-03-04</td>\n",
       "      <td>0.110123</td>\n",
       "      <td>0.005017</td>\n",
       "    </tr>\n",
       "    <tr>\n",
       "      <th>1</th>\n",
       "      <td>AAPL</td>\n",
       "      <td>2019-03-05</td>\n",
       "      <td>0.091783</td>\n",
       "      <td>-0.001821</td>\n",
       "    </tr>\n",
       "    <tr>\n",
       "      <th>2</th>\n",
       "      <td>AAPL</td>\n",
       "      <td>2019-03-06</td>\n",
       "      <td>0.060471</td>\n",
       "      <td>-0.005771</td>\n",
       "    </tr>\n",
       "    <tr>\n",
       "      <th>3</th>\n",
       "      <td>AAPL</td>\n",
       "      <td>2019-03-07</td>\n",
       "      <td>0.073557</td>\n",
       "      <td>-0.011642</td>\n",
       "    </tr>\n",
       "    <tr>\n",
       "      <th>4</th>\n",
       "      <td>AAPL</td>\n",
       "      <td>2019-03-08</td>\n",
       "      <td>0.114928</td>\n",
       "      <td>0.002374</td>\n",
       "    </tr>\n",
       "  </tbody>\n",
       "</table>\n",
       "</div>"
      ],
      "text/plain": [
       "  ticker        date  compound    change\n",
       "0   AAPL  2019-03-04  0.110123  0.005017\n",
       "1   AAPL  2019-03-05  0.091783 -0.001821\n",
       "2   AAPL  2019-03-06  0.060471 -0.005771\n",
       "3   AAPL  2019-03-07  0.073557 -0.011642\n",
       "4   AAPL  2019-03-08  0.114928  0.002374"
      ]
     },
     "execution_count": 8,
     "metadata": {},
     "output_type": "execute_result"
    }
   ],
   "source": [
    "df['compound'].fillna(0, inplace = True)\n",
    "df.head()"
   ]
  },
  {
   "cell_type": "code",
   "execution_count": 9,
   "metadata": {},
   "outputs": [],
   "source": [
    "for index, row in df.iterrows():\n",
    "    try:\n",
    "        df.at[index+1, 'change_1'] = row['change']\n",
    "        df.at[index+2, 'change_2'] = row['change']\n",
    "        df.at[index+3, 'change_3'] = row['change']\n",
    "        df.at[index+4, 'change_4'] = row['change']\n",
    "    except:\n",
    "        pass\n",
    "    \n",
    "    try:\n",
    "        df.at[index+1, 'compound_1'] = row['compound']\n",
    "        df.at[index+2, 'compound_2'] = row['compound']\n",
    "        df.at[index+3, 'compound_3'] = row['compound']\n",
    "        df.at[index+4, 'compound_4'] = row['compound']\n",
    "    except:\n",
    "        pass\n",
    "        "
   ]
  },
  {
   "cell_type": "code",
   "execution_count": 10,
   "metadata": {},
   "outputs": [],
   "source": [
    "for index, row in df.iterrows():\n",
    "    if row['date']=='2019-03-04':\n",
    "        df.at[index,'change_1'] = np.nan\n",
    "        df.at[index,'change_2'] = np.nan\n",
    "        df.at[index,'change_3'] = np.nan\n",
    "        df.at[index,'change_4'] = np.nan\n",
    "        \n",
    "        df.at[index,'compound_1'] = np.nan\n",
    "        df.at[index,'compound_2'] = np.nan\n",
    "        df.at[index,'compound_3'] = np.nan\n",
    "        df.at[index,'compound_4'] = np.nan\n",
    "    \n",
    "    elif row['date']=='2019-03-05':\n",
    "        df.at[index,'change_2'] = np.nan\n",
    "        df.at[index,'change_3'] = np.nan\n",
    "        df.at[index,'change_4'] = np.nan\n",
    "        \n",
    "        df.at[index,'compound_2'] = np.nan\n",
    "        df.at[index,'compound_3'] = np.nan\n",
    "        df.at[index,'compound_4'] = np.nan\n",
    "    \n",
    "    elif row['date']=='2019-03-06':\n",
    "        df.at[index,'change_3'] = np.nan\n",
    "        df.at[index,'change_4'] = np.nan\n",
    "        \n",
    "        df.at[index,'compound_3'] = np.nan\n",
    "        df.at[index,'compound_4'] = np.nan\n",
    "    \n",
    "    elif row['date']=='2019-03-07':\n",
    "        df.at[index,'change_4'] = np.nan\n",
    "        \n",
    "        df.at[index,'compound_4'] = np.nan\n",
    "    "
   ]
  },
  {
   "cell_type": "code",
   "execution_count": 11,
   "metadata": {},
   "outputs": [],
   "source": [
    "df = df[df.date>'2019-03-07']"
   ]
  },
  {
   "cell_type": "code",
   "execution_count": 12,
   "metadata": {},
   "outputs": [
    {
     "data": {
      "text/plain": [
       "ticker        0\n",
       "date          0\n",
       "compound      0\n",
       "change        0\n",
       "change_1      0\n",
       "change_2      0\n",
       "change_3      0\n",
       "change_4      0\n",
       "compound_1    0\n",
       "compound_2    0\n",
       "compound_3    0\n",
       "compound_4    0\n",
       "dtype: int64"
      ]
     },
     "execution_count": 12,
     "metadata": {},
     "output_type": "execute_result"
    }
   ],
   "source": [
    "df.isna().sum()\n"
   ]
  },
  {
   "cell_type": "code",
   "execution_count": 13,
   "metadata": {},
   "outputs": [],
   "source": [
    "df=df.sort_values(by='date')"
   ]
  },
  {
   "cell_type": "code",
   "execution_count": 40,
   "metadata": {},
   "outputs": [],
   "source": [
    "df_train = df.sample(frac=0.8, random_state=0)\n",
    "df_test = df.drop(df_train.index)"
   ]
  },
  {
   "cell_type": "code",
   "execution_count": 41,
   "metadata": {},
   "outputs": [
    {
     "data": {
      "text/html": [
       "<div>\n",
       "<style scoped>\n",
       "    .dataframe tbody tr th:only-of-type {\n",
       "        vertical-align: middle;\n",
       "    }\n",
       "\n",
       "    .dataframe tbody tr th {\n",
       "        vertical-align: top;\n",
       "    }\n",
       "\n",
       "    .dataframe thead th {\n",
       "        text-align: right;\n",
       "    }\n",
       "</style>\n",
       "<table border=\"1\" class=\"dataframe\">\n",
       "  <thead>\n",
       "    <tr style=\"text-align: right;\">\n",
       "      <th></th>\n",
       "      <th>count</th>\n",
       "      <th>mean</th>\n",
       "      <th>std</th>\n",
       "      <th>min</th>\n",
       "      <th>25%</th>\n",
       "      <th>50%</th>\n",
       "      <th>75%</th>\n",
       "      <th>max</th>\n",
       "    </tr>\n",
       "  </thead>\n",
       "  <tbody>\n",
       "    <tr>\n",
       "      <th>change_1</th>\n",
       "      <td>627.0</td>\n",
       "      <td>0.000835</td>\n",
       "      <td>0.012550</td>\n",
       "      <td>-0.068417</td>\n",
       "      <td>-0.005472</td>\n",
       "      <td>0.002116</td>\n",
       "      <td>0.008790</td>\n",
       "      <td>0.044803</td>\n",
       "    </tr>\n",
       "    <tr>\n",
       "      <th>change_2</th>\n",
       "      <td>627.0</td>\n",
       "      <td>0.000347</td>\n",
       "      <td>0.012893</td>\n",
       "      <td>-0.068417</td>\n",
       "      <td>-0.005962</td>\n",
       "      <td>0.001264</td>\n",
       "      <td>0.008466</td>\n",
       "      <td>0.079147</td>\n",
       "    </tr>\n",
       "    <tr>\n",
       "      <th>change_3</th>\n",
       "      <td>627.0</td>\n",
       "      <td>0.000869</td>\n",
       "      <td>0.013100</td>\n",
       "      <td>-0.068417</td>\n",
       "      <td>-0.005173</td>\n",
       "      <td>0.001702</td>\n",
       "      <td>0.008790</td>\n",
       "      <td>0.079147</td>\n",
       "    </tr>\n",
       "    <tr>\n",
       "      <th>change_4</th>\n",
       "      <td>627.0</td>\n",
       "      <td>-0.000101</td>\n",
       "      <td>0.012525</td>\n",
       "      <td>-0.068417</td>\n",
       "      <td>-0.006107</td>\n",
       "      <td>0.000981</td>\n",
       "      <td>0.007104</td>\n",
       "      <td>0.044803</td>\n",
       "    </tr>\n",
       "    <tr>\n",
       "      <th>compound_1</th>\n",
       "      <td>627.0</td>\n",
       "      <td>0.102307</td>\n",
       "      <td>0.123825</td>\n",
       "      <td>-0.624900</td>\n",
       "      <td>0.029671</td>\n",
       "      <td>0.096320</td>\n",
       "      <td>0.152287</td>\n",
       "      <td>0.847350</td>\n",
       "    </tr>\n",
       "    <tr>\n",
       "      <th>compound_2</th>\n",
       "      <td>627.0</td>\n",
       "      <td>0.104192</td>\n",
       "      <td>0.121658</td>\n",
       "      <td>-0.624900</td>\n",
       "      <td>0.028570</td>\n",
       "      <td>0.097500</td>\n",
       "      <td>0.156288</td>\n",
       "      <td>0.659700</td>\n",
       "    </tr>\n",
       "    <tr>\n",
       "      <th>compound_3</th>\n",
       "      <td>627.0</td>\n",
       "      <td>0.105627</td>\n",
       "      <td>0.129349</td>\n",
       "      <td>-0.624900</td>\n",
       "      <td>0.027343</td>\n",
       "      <td>0.096514</td>\n",
       "      <td>0.153782</td>\n",
       "      <td>0.847350</td>\n",
       "    </tr>\n",
       "    <tr>\n",
       "      <th>compound_4</th>\n",
       "      <td>627.0</td>\n",
       "      <td>0.104330</td>\n",
       "      <td>0.128863</td>\n",
       "      <td>-0.624900</td>\n",
       "      <td>0.026089</td>\n",
       "      <td>0.095092</td>\n",
       "      <td>0.155710</td>\n",
       "      <td>0.847350</td>\n",
       "    </tr>\n",
       "  </tbody>\n",
       "</table>\n",
       "</div>"
      ],
      "text/plain": [
       "            count      mean       std       min       25%       50%       75%  \\\n",
       "change_1    627.0  0.000835  0.012550 -0.068417 -0.005472  0.002116  0.008790   \n",
       "change_2    627.0  0.000347  0.012893 -0.068417 -0.005962  0.001264  0.008466   \n",
       "change_3    627.0  0.000869  0.013100 -0.068417 -0.005173  0.001702  0.008790   \n",
       "change_4    627.0 -0.000101  0.012525 -0.068417 -0.006107  0.000981  0.007104   \n",
       "compound_1  627.0  0.102307  0.123825 -0.624900  0.029671  0.096320  0.152287   \n",
       "compound_2  627.0  0.104192  0.121658 -0.624900  0.028570  0.097500  0.156288   \n",
       "compound_3  627.0  0.105627  0.129349 -0.624900  0.027343  0.096514  0.153782   \n",
       "compound_4  627.0  0.104330  0.128863 -0.624900  0.026089  0.095092  0.155710   \n",
       "\n",
       "                 max  \n",
       "change_1    0.044803  \n",
       "change_2    0.079147  \n",
       "change_3    0.079147  \n",
       "change_4    0.044803  \n",
       "compound_1  0.847350  \n",
       "compound_2  0.659700  \n",
       "compound_3  0.847350  \n",
       "compound_4  0.847350  "
      ]
     },
     "execution_count": 41,
     "metadata": {},
     "output_type": "execute_result"
    }
   ],
   "source": [
    "df_train_stats = df_train.describe()\n",
    "df_train_stats.pop('change')\n",
    "df_train_stats.pop('compound')\n",
    "df_train_stats = df_train_stats.transpose()\n",
    "df_train_stats\n"
   ]
  },
  {
   "cell_type": "code",
   "execution_count": 42,
   "metadata": {},
   "outputs": [],
   "source": [
    "df_train_labels = df_train.pop('change')\n",
    "df_train.pop('compound')\n",
    "df_train.pop('ticker')\n",
    "df_train.pop('date')\n",
    "df_test_labels = df_test.pop('change')\n",
    "df_test.pop('compound')\n",
    "df_test.pop('ticker')\n",
    "df_test.pop('date')\n",
    "pass"
   ]
  },
  {
   "cell_type": "code",
   "execution_count": 43,
   "metadata": {},
   "outputs": [
    {
     "data": {
      "text/plain": [
       "change_1      0.000835\n",
       "change_2      0.000347\n",
       "change_3      0.000869\n",
       "change_4     -0.000101\n",
       "compound_1    0.102307\n",
       "compound_2    0.104192\n",
       "compound_3    0.105627\n",
       "compound_4    0.104330\n",
       "Name: mean, dtype: float64"
      ]
     },
     "execution_count": 43,
     "metadata": {},
     "output_type": "execute_result"
    }
   ],
   "source": [
    "df_train_stats['mean']"
   ]
  },
  {
   "cell_type": "code",
   "execution_count": 44,
   "metadata": {},
   "outputs": [],
   "source": [
    "def norm(x):\n",
    "    \n",
    "    for index,row in x.iterrows():\n",
    "        x.at[index, 'change_1'] = (row['change_1'] - df_train_stats['mean'][0]) / df_train_stats['std'][0]\n",
    "        x.at[index, 'change_2'] = (row['change_2'] - df_train_stats['mean'][1]) / df_train_stats['std'][1]\n",
    "        x.at[index, 'change_3'] = (row['change_3'] - df_train_stats['mean'][2]) / df_train_stats['std'][2]\n",
    "        x.at[index, 'change_4'] = (row['change_4'] - df_train_stats['mean'][3]) / df_train_stats['std'][3]\n",
    "        \n",
    "        x.at[index, 'compound_1'] = (row['compound_1'] - df_train_stats['mean'][4]) / df_train_stats['std'][4]\n",
    "        x.at[index, 'compound_2'] = (row['compound_2'] - df_train_stats['mean'][5]) / df_train_stats['std'][5]\n",
    "        x.at[index, 'compound_3'] = (row['compound_3'] - df_train_stats['mean'][6]) / df_train_stats['std'][6]\n",
    "        x.at[index, 'compound_4'] = (row['compound_4'] - df_train_stats['mean'][7]) / df_train_stats['std'][7]\n",
    "        \n",
    "    \n",
    "    return x\n",
    "normed_train_data = norm(df_train)\n",
    "normed_test_data = norm(df_test)\n"
   ]
  },
  {
   "cell_type": "code",
   "execution_count": 45,
   "metadata": {},
   "outputs": [],
   "source": [
    "def build_model():\n",
    "    model = keras.Sequential([\n",
    "    layers.Dense(64, activation=tf.nn.relu, input_shape=[len(df_train.keys())]),\n",
    "    layers.Dense(64, activation=tf.nn.relu),\n",
    "    layers.Dense(1)\n",
    "  ])\n",
    "\n",
    "    optimizer = tf.keras.optimizers.RMSprop(0.001)\n",
    "\n",
    "    model.compile(loss='mean_squared_error',\n",
    "                optimizer=optimizer,\n",
    "                metrics=['mean_absolute_error', 'mean_squared_error'])\n",
    "    return model\n",
    "\n",
    "model = build_model()\n"
   ]
  },
  {
   "cell_type": "code",
   "execution_count": 46,
   "metadata": {},
   "outputs": [
    {
     "name": "stdout",
     "output_type": "stream",
     "text": [
      "_________________________________________________________________\n",
      "Layer (type)                 Output Shape              Param #   \n",
      "=================================================================\n",
      "dense_6 (Dense)              (None, 64)                576       \n",
      "_________________________________________________________________\n",
      "dense_7 (Dense)              (None, 64)                4160      \n",
      "_________________________________________________________________\n",
      "dense_8 (Dense)              (None, 1)                 65        \n",
      "=================================================================\n",
      "Total params: 4,801\n",
      "Trainable params: 4,801\n",
      "Non-trainable params: 0\n",
      "_________________________________________________________________\n"
     ]
    }
   ],
   "source": [
    "model.summary()"
   ]
  },
  {
   "cell_type": "code",
   "execution_count": 47,
   "metadata": {},
   "outputs": [
    {
     "data": {
      "text/html": [
       "<div>\n",
       "<style scoped>\n",
       "    .dataframe tbody tr th:only-of-type {\n",
       "        vertical-align: middle;\n",
       "    }\n",
       "\n",
       "    .dataframe tbody tr th {\n",
       "        vertical-align: top;\n",
       "    }\n",
       "\n",
       "    .dataframe thead th {\n",
       "        text-align: right;\n",
       "    }\n",
       "</style>\n",
       "<table border=\"1\" class=\"dataframe\">\n",
       "  <thead>\n",
       "    <tr style=\"text-align: right;\">\n",
       "      <th></th>\n",
       "      <th>change_1</th>\n",
       "      <th>change_2</th>\n",
       "      <th>change_3</th>\n",
       "      <th>change_4</th>\n",
       "      <th>compound_1</th>\n",
       "      <th>compound_2</th>\n",
       "      <th>compound_3</th>\n",
       "      <th>compound_4</th>\n",
       "    </tr>\n",
       "  </thead>\n",
       "  <tbody>\n",
       "    <tr>\n",
       "      <th>960</th>\n",
       "      <td>-0.679107</td>\n",
       "      <td>0.975854</td>\n",
       "      <td>-0.599380</td>\n",
       "      <td>-1.281087</td>\n",
       "      <td>-0.128253</td>\n",
       "      <td>0.071545</td>\n",
       "      <td>-0.065748</td>\n",
       "      <td>-1.696905</td>\n",
       "    </tr>\n",
       "    <tr>\n",
       "      <th>414</th>\n",
       "      <td>-0.225648</td>\n",
       "      <td>-0.949667</td>\n",
       "      <td>-0.566269</td>\n",
       "      <td>-0.309787</td>\n",
       "      <td>1.471118</td>\n",
       "      <td>1.140632</td>\n",
       "      <td>1.019865</td>\n",
       "      <td>1.328657</td>\n",
       "    </tr>\n",
       "    <tr>\n",
       "      <th>133</th>\n",
       "      <td>1.250707</td>\n",
       "      <td>-0.156901</td>\n",
       "      <td>-1.141240</td>\n",
       "      <td>1.575524</td>\n",
       "      <td>0.467947</td>\n",
       "      <td>0.614629</td>\n",
       "      <td>-0.244509</td>\n",
       "      <td>0.570916</td>\n",
       "    </tr>\n",
       "    <tr>\n",
       "      <th>854</th>\n",
       "      <td>-2.742423</td>\n",
       "      <td>0.553770</td>\n",
       "      <td>-0.144970</td>\n",
       "      <td>-0.790367</td>\n",
       "      <td>-0.571795</td>\n",
       "      <td>-2.235699</td>\n",
       "      <td>1.515052</td>\n",
       "      <td>0.020171</td>\n",
       "    </tr>\n",
       "    <tr>\n",
       "      <th>901</th>\n",
       "      <td>-2.457964</td>\n",
       "      <td>0.292223</td>\n",
       "      <td>0.629259</td>\n",
       "      <td>0.434454</td>\n",
       "      <td>-0.297215</td>\n",
       "      <td>-0.387902</td>\n",
       "      <td>-0.528944</td>\n",
       "      <td>-0.541854</td>\n",
       "    </tr>\n",
       "  </tbody>\n",
       "</table>\n",
       "</div>"
      ],
      "text/plain": [
       "     change_1  change_2  change_3  change_4  compound_1  compound_2  \\\n",
       "960 -0.679107  0.975854 -0.599380 -1.281087   -0.128253    0.071545   \n",
       "414 -0.225648 -0.949667 -0.566269 -0.309787    1.471118    1.140632   \n",
       "133  1.250707 -0.156901 -1.141240  1.575524    0.467947    0.614629   \n",
       "854 -2.742423  0.553770 -0.144970 -0.790367   -0.571795   -2.235699   \n",
       "901 -2.457964  0.292223  0.629259  0.434454   -0.297215   -0.387902   \n",
       "\n",
       "     compound_3  compound_4  \n",
       "960   -0.065748   -1.696905  \n",
       "414    1.019865    1.328657  \n",
       "133   -0.244509    0.570916  \n",
       "854    1.515052    0.020171  \n",
       "901   -0.528944   -0.541854  "
      ]
     },
     "execution_count": 47,
     "metadata": {},
     "output_type": "execute_result"
    }
   ],
   "source": [
    "normed_train_data.head()"
   ]
  },
  {
   "cell_type": "code",
   "execution_count": 48,
   "metadata": {},
   "outputs": [
    {
     "data": {
      "text/plain": [
       "array([[-0.24405137],\n",
       "       [-0.19105859],\n",
       "       [-0.20302801],\n",
       "       [-0.06017758],\n",
       "       [-0.08807832],\n",
       "       [-0.6091866 ],\n",
       "       [ 0.15954548],\n",
       "       [ 0.24481924],\n",
       "       [-0.13412651],\n",
       "       [ 0.01422504]], dtype=float32)"
      ]
     },
     "execution_count": 48,
     "metadata": {},
     "output_type": "execute_result"
    }
   ],
   "source": [
    "example_batch = normed_train_data[:10]\n",
    "example_result = model.predict(example_batch)\n",
    "example_result"
   ]
  },
  {
   "cell_type": "code",
   "execution_count": 49,
   "metadata": {},
   "outputs": [],
   "source": [
    "#df_train_labels = df_train_labels.apply(lambda row: 0 if row < 0 else 1)\n",
    "#df_test_labels = df_test_labels.apply(lambda row: 0 if row < 0 else 1)"
   ]
  },
  {
   "cell_type": "code",
   "execution_count": 50,
   "metadata": {},
   "outputs": [
    {
     "name": "stdout",
     "output_type": "stream",
     "text": [
      "\n",
      "....................................................................................................\n",
      "....................................................................................................\n",
      "....................................................................................................\n",
      "....................................................................................................\n",
      "....................................................................................................\n",
      "....................................................................................................\n",
      "....................................................................................................\n",
      "....................................................................................................\n",
      "....................................................................................................\n",
      "...................................................................................................."
     ]
    }
   ],
   "source": [
    "class PrintDot(keras.callbacks.Callback):\n",
    "    def on_epoch_end(self, epoch, logs):\n",
    "        if epoch % 100 == 0: print('')\n",
    "        print('.', end='')\n",
    "\n",
    "EPOCHS = 1000\n",
    "\n",
    "history = model.fit(\n",
    "    normed_train_data, \n",
    "    df_train_labels,\n",
    "    epochs=EPOCHS, \n",
    "    validation_split = 0.2, \n",
    "    verbose=0,\n",
    "    callbacks=[PrintDot()])\n"
   ]
  },
  {
   "cell_type": "code",
   "execution_count": 51,
   "metadata": {},
   "outputs": [
    {
     "data": {
      "text/html": [
       "<div>\n",
       "<style scoped>\n",
       "    .dataframe tbody tr th:only-of-type {\n",
       "        vertical-align: middle;\n",
       "    }\n",
       "\n",
       "    .dataframe tbody tr th {\n",
       "        vertical-align: top;\n",
       "    }\n",
       "\n",
       "    .dataframe thead th {\n",
       "        text-align: right;\n",
       "    }\n",
       "</style>\n",
       "<table border=\"1\" class=\"dataframe\">\n",
       "  <thead>\n",
       "    <tr style=\"text-align: right;\">\n",
       "      <th></th>\n",
       "      <th>val_loss</th>\n",
       "      <th>val_mean_absolute_error</th>\n",
       "      <th>val_mean_squared_error</th>\n",
       "      <th>loss</th>\n",
       "      <th>mean_absolute_error</th>\n",
       "      <th>mean_squared_error</th>\n",
       "      <th>epoch</th>\n",
       "    </tr>\n",
       "  </thead>\n",
       "  <tbody>\n",
       "    <tr>\n",
       "      <th>995</th>\n",
       "      <td>0.000261</td>\n",
       "      <td>0.012188</td>\n",
       "      <td>0.000261</td>\n",
       "      <td>0.000004</td>\n",
       "      <td>0.001445</td>\n",
       "      <td>0.000004</td>\n",
       "      <td>995</td>\n",
       "    </tr>\n",
       "    <tr>\n",
       "      <th>996</th>\n",
       "      <td>0.000263</td>\n",
       "      <td>0.012305</td>\n",
       "      <td>0.000263</td>\n",
       "      <td>0.000004</td>\n",
       "      <td>0.001433</td>\n",
       "      <td>0.000004</td>\n",
       "      <td>996</td>\n",
       "    </tr>\n",
       "    <tr>\n",
       "      <th>997</th>\n",
       "      <td>0.000251</td>\n",
       "      <td>0.012029</td>\n",
       "      <td>0.000251</td>\n",
       "      <td>0.000003</td>\n",
       "      <td>0.001271</td>\n",
       "      <td>0.000003</td>\n",
       "      <td>997</td>\n",
       "    </tr>\n",
       "    <tr>\n",
       "      <th>998</th>\n",
       "      <td>0.000250</td>\n",
       "      <td>0.011916</td>\n",
       "      <td>0.000250</td>\n",
       "      <td>0.000003</td>\n",
       "      <td>0.001395</td>\n",
       "      <td>0.000003</td>\n",
       "      <td>998</td>\n",
       "    </tr>\n",
       "    <tr>\n",
       "      <th>999</th>\n",
       "      <td>0.000247</td>\n",
       "      <td>0.011923</td>\n",
       "      <td>0.000247</td>\n",
       "      <td>0.000003</td>\n",
       "      <td>0.001259</td>\n",
       "      <td>0.000003</td>\n",
       "      <td>999</td>\n",
       "    </tr>\n",
       "  </tbody>\n",
       "</table>\n",
       "</div>"
      ],
      "text/plain": [
       "     val_loss  val_mean_absolute_error  val_mean_squared_error      loss  \\\n",
       "995  0.000261                 0.012188                0.000261  0.000004   \n",
       "996  0.000263                 0.012305                0.000263  0.000004   \n",
       "997  0.000251                 0.012029                0.000251  0.000003   \n",
       "998  0.000250                 0.011916                0.000250  0.000003   \n",
       "999  0.000247                 0.011923                0.000247  0.000003   \n",
       "\n",
       "     mean_absolute_error  mean_squared_error  epoch  \n",
       "995             0.001445            0.000004    995  \n",
       "996             0.001433            0.000004    996  \n",
       "997             0.001271            0.000003    997  \n",
       "998             0.001395            0.000003    998  \n",
       "999             0.001259            0.000003    999  "
      ]
     },
     "execution_count": 51,
     "metadata": {},
     "output_type": "execute_result"
    }
   ],
   "source": [
    "hist = pd.DataFrame(history.history)\n",
    "hist['epoch'] = history.epoch\n",
    "hist.tail()\n"
   ]
  },
  {
   "cell_type": "code",
   "execution_count": 54,
   "metadata": {},
   "outputs": [
    {
     "data": {
      "image/png": "[encoded data removed]",
      "text/plain": [
       "<Figure size 432x288 with 1 Axes>"
      ]
     },
     "metadata": {},
     "output_type": "display_data"
    },
    {
     "data": {
      "image/png": "[encoded data removed]",
      "text/plain": [
       "<Figure size 432x288 with 1 Axes>"
      ]
     },
     "metadata": {},
     "output_type": "display_data"
    }
   ],
   "source": [
    "def plot_history(history):\n",
    "    hist = pd.DataFrame(history.history)\n",
    "    hist['epoch'] = history.epoch\n",
    "\n",
    "    plt.figure()\n",
    "    plt.xlabel('Epoch')\n",
    "    plt.ylabel('Mean Abs Error [change]')\n",
    "    plt.plot(hist['epoch'], hist['mean_absolute_error'],\n",
    "           label='Train Error')\n",
    "    plt.plot(hist['epoch'], hist['val_mean_absolute_error'],\n",
    "           label = 'Val Error')\n",
    "    plt.ylim([0,.1])\n",
    "    plt.legend()\n",
    "\n",
    "    plt.figure()\n",
    "    plt.xlabel('Epoch')\n",
    "    plt.ylabel('Mean Square Error [$change^2$]')\n",
    "    plt.plot(hist['epoch'], hist['mean_squared_error'],\n",
    "           label='Train Error')\n",
    "    plt.plot(hist['epoch'], hist['val_mean_squared_error'],\n",
    "           label = 'Val Error')\n",
    "    plt.ylim([0,.02])\n",
    "    plt.legend()\n",
    "    plt.show()\n",
    "\n",
    "\n",
    "plot_history(history)\n"
   ]
  },
  {
   "cell_type": "code",
   "execution_count": 55,
   "metadata": {},
   "outputs": [
    {
     "name": "stdout",
     "output_type": "stream",
     "text": [
      "\n",
      "................................"
     ]
    },
    {
     "data": {
      "image/png": "[encoded data removed]",
      "text/plain": [
       "<Figure size 432x288 with 1 Axes>"
      ]
     },
     "metadata": {},
     "output_type": "display_data"
    },
    {
     "data": {
      "image/png": "[encoded data removed]",
      "text/plain": [
       "<Figure size 432x288 with 1 Axes>"
      ]
     },
     "metadata": {},
     "output_type": "display_data"
    }
   ],
   "source": [
    "model = build_model()\n",
    "\n",
    "# The patience parameter is the amount of epochs to check for improvement\n",
    "early_stop = keras.callbacks.EarlyStopping(monitor='val_loss', patience=10)\n",
    "\n",
    "history = model.fit(normed_train_data, df_train_labels, epochs=EPOCHS,\n",
    "                    validation_split = 0.2, verbose=0, callbacks=[early_stop, PrintDot()])\n",
    "\n",
    "plot_history(history)\n"
   ]
  },
  {
   "cell_type": "code",
   "execution_count": 56,
   "metadata": {},
   "outputs": [
    {
     "name": "stdout",
     "output_type": "stream",
     "text": [
      "Testing set Mean Abs Error:  0.03 change\n"
     ]
    }
   ],
   "source": [
    "loss, mae, mse = model.evaluate(normed_test_data, df_test_labels, verbose=0)\n",
    "\n",
    "print(\"Testing set Mean Abs Error: {:5.2f} change\".format(mae))\n"
   ]
  },
  {
   "cell_type": "code",
   "execution_count": 57,
   "metadata": {},
   "outputs": [
    {
     "data": {
      "image/png": "[encoded data removed]",
      "text/plain": [
       "<Figure size 432x288 with 1 Axes>"
      ]
     },
     "metadata": {},
     "output_type": "display_data"
    }
   ],
   "source": [
    "test_predictions = model.predict(normed_test_data).flatten()\n",
    "\n",
    "plt.scatter(df_test_labels, test_predictions)\n",
    "plt.xlabel('True Values [change]')\n",
    "plt.ylabel('Predictions [change]')\n",
    "plt.axis('equal')\n",
    "plt.axis('square')\n",
    "plt.xlim([0,plt.xlim()[1]])\n",
    "plt.ylim([0,plt.ylim()[1]])\n",
    "_ = plt.plot([-100, 100], [-100, 100])\n"
   ]
  },
  {
   "cell_type": "code",
   "execution_count": 58,
   "metadata": {},
   "outputs": [
    {
     "data": {
      "image/png": "[encoded data removed]",
      "text/plain": [
       "<Figure size 432x288 with 1 Axes>"
      ]
     },
     "metadata": {},
     "output_type": "display_data"
    }
   ],
   "source": [
    "error = test_predictions - df_test_labels\n",
    "plt.hist(error, bins = 25)\n",
    "plt.xlabel(\"Prediction Error [change]\")\n",
    "_ = plt.ylabel(\"Count\")\n"
   ]
  },
  {
   "cell_type": "code",
   "execution_count": null,
   "metadata": {},
   "outputs": [],
   "source": []
  }
 ],
 "metadata": {
  "kernelspec": {
   "display_name": "Python 3",
   "language": "python",
   "name": "python3"
  },
  "language_info": {
   "codemirror_mode": {
    "name": "ipython",
    "version": 3
   },
   "file_extension": ".py",
   "mimetype": "text/x-python",
   "name": "python",
   "nbconvert_exporter": "python",
   "pygments_lexer": "ipython3",
   "version": "3.6.5"
  }
 },
 "nbformat": 4,
 "nbformat_minor": 2
}
